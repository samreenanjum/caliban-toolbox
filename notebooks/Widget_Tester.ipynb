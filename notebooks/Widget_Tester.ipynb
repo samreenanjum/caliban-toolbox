{
 "cells": [
  {
   "cell_type": "code",
   "execution_count": 19,
   "metadata": {
    "scrolled": true
   },
   "outputs": [],
   "source": [
    "# Stdlib imports\n",
    "from io import BytesIO\n",
    "\n",
    "# Third-party libraries\n",
    "from IPython.display import Image\n",
    "from ipywidgets import interact, interactive, fixed\n",
    "\n",
    "import matplotlib as mpl\n",
    "from skimage import data, filters, io, img_as_uint\n",
    "import numpy as np\n",
    "\n",
    "import skimage as sk\n",
    "from skimage import filters\n",
    "import os\n",
    "from scipy import ndimage\n",
    "import scipy\n",
    "import sys\n",
    "# The plotting module matplotlib.pyplot as plt\n",
    "import matplotlib.pyplot as plt\n",
    "\n",
    "# The image processing package scipy.ndimage as ndi\n",
    "import scipy.ndimage as ndi\n",
    "\n",
    "# %matplotlib inline\n",
    "# filename = r'181220_Hyb1_pos1_4umSteps-0005.tif'\n",
    "dirpath = r'test/pics/pics181220/raw'\n",
    "# filepath = os.path.join(dirpath, filename)\n",
    "# print(filepath)\n",
    "#from dcde.pre_annotation.contrast_adjustment import contrast\n",
    "\n",
    "#import ipywidgets as widgets\n",
    "from ipywidgets import interact\n",
    "from skimage.io import imread\n",
    "# img = imread(filepath)\n",
    "\n"
   ]
  },
  {
   "cell_type": "code",
   "execution_count": null,
   "metadata": {
    "scrolled": true
   },
   "outputs": [],
   "source": [
    "\n",
    "\n",
    "\n"
   ]
  },
  {
   "cell_type": "code",
   "execution_count": 20,
   "metadata": {
    "scrolled": true
   },
   "outputs": [],
   "source": [
    "def arr2img(arr):\n",
    "    \"\"\"Display a 2- or 3-d numpy array as an image.\"\"\"\n",
    "    if arr.ndim == 2:\n",
    "        format, cmap = 'png', mpl.cm.gray\n",
    "    elif arr.ndim == 3:\n",
    "        format, cmap = 'jpg', None\n",
    "    else:\n",
    "        raise ValueError(\"Only 2- or 3-d arrays can be displayed as images.\")\n",
    "    # Don't let matplotlib autoscale the color range so we can control overall luminosity\n",
    "    vmax = 255 if arr.dtype == 'uint8' else 1.0\n",
    "    with BytesIO() as buffer:\n",
    "        mpl.image.imsave(buffer, arr, format=format, cmap=cmap)\n",
    "        out = buffer.getvalue()\n",
    "    return Image(out)\n"
   ]
  },
  {
   "cell_type": "code",
   "execution_count": 21,
   "metadata": {
    "scrolled": false
   },
   "outputs": [
    {
     "data": {
      "application/vnd.jupyter.widget-view+json": {
       "model_id": "1597ce47fdef4a4f9785e50cf450436f",
       "version_major": 2,
       "version_minor": 0
      },
      "text/plain": [
       "interactive(children=(Dropdown(description='name', options=('181220_Hyb1_pos1_4umSteps-0001.tif', '181220_Hyb1…"
      ]
     },
     "metadata": {},
     "output_type": "display_data"
    }
   ],
   "source": [
    "def choose_img(name):\n",
    "    # Let's store the result in the global `img` that we can then use in our image editor below\n",
    "    global img\n",
    "    filepath = os.path.join(dirpath, name)\n",
    "    img = img_as_uint(imread(filepath))\n",
    "    return arr2img(img)\n",
    "\n",
    "interact(choose_img, name=sorted(set(os.listdir(dirpath))));\n",
    "    "
   ]
  },
  {
   "cell_type": "code",
   "execution_count": 24,
   "metadata": {
    "scrolled": true
   },
   "outputs": [],
   "source": [
    "def edit_image(image, sigma=1.0, equalize_hist=False, equalize_adapthist=False):\n",
    "    \n",
    "    global hist\n",
    "    global adapthist\n",
    "    global gaussian_sigma\n",
    "    \n",
    "    new_image = filters.gaussian(image, sigma=sigma, multichannel=False)\n",
    "    new_image += 1000*sk.filters.sobel(new_image)\n",
    "    new_image[:] = -1.0*new_image[:]\n",
    "    new_image=sk.exposure.rescale_intensity(new_image, in_range = 'image', out_range = 'float')\n",
    "    \n",
    "    if(equalize_hist == True):\n",
    "        #new_image=sk.exposure.rescale_intensity(new_image, in_range = 'image', out_range = 'np.uint16')\n",
    "        new_image = sk.exposure.equalize_hist(new_image, nbins=256, mask=None)\n",
    "        \n",
    "    if(equalize_adapthist == True):\n",
    "        new_image = sk.exposure.equalize_adapthist(new_image, kernel_size=None, clip_limit=0.01, nbins=256)\n",
    "     \n",
    "    \n",
    "    hist = equalize_hist\n",
    "    adapthist = equalize_adapthist\n",
    "    gaussian_sigma = sigma\n",
    "        \n",
    "    \n",
    "    return arr2img(new_image)\n",
    "    "
   ]
  },
  {
   "cell_type": "code",
   "execution_count": 25,
   "metadata": {
    "scrolled": false
   },
   "outputs": [
    {
     "data": {
      "application/vnd.jupyter.widget-view+json": {
       "model_id": "a64b7122d38c4289b19cfbdec0180416",
       "version_major": 2,
       "version_minor": 0
      },
      "text/plain": [
       "interactive(children=(FloatSlider(value=1.0, description='sigma', max=4.0, step=0.3), Checkbox(value=False, de…"
      ]
     },
     "metadata": {},
     "output_type": "display_data"
    }
   ],
   "source": [
    "\n",
    "interact(edit_image, image=fixed(img), sigma=(0.0,4,0.3));"
   ]
  },
  {
   "cell_type": "code",
   "execution_count": null,
   "metadata": {
    "scrolled": true
   },
   "outputs": [],
   "source": []
  },
  {
   "cell_type": "code",
   "execution_count": null,
   "metadata": {
    "scrolled": true
   },
   "outputs": [],
   "source": []
  },
  {
   "cell_type": "code",
   "execution_count": null,
   "metadata": {
    "scrolled": true
   },
   "outputs": [],
   "source": []
  },
  {
   "cell_type": "code",
   "execution_count": null,
   "metadata": {
    "scrolled": true
   },
   "outputs": [],
   "source": []
  }
 ],
 "metadata": {
  "kernelspec": {
   "display_name": "Python 3",
   "language": "python",
   "name": "python3"
  },
  "language_info": {
   "codemirror_mode": {
    "name": "ipython",
    "version": 3
   },
   "file_extension": ".py",
   "mimetype": "text/x-python",
   "name": "python",
   "nbconvert_exporter": "python",
   "pygments_lexer": "ipython3",
   "version": "3.5.2"
  }
 },
 "nbformat": 4,
 "nbformat_minor": 2
}
