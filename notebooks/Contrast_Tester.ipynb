{
 "cells": [
  {
   "cell_type": "code",
   "execution_count": 3,
   "metadata": {},
   "outputs": [],
   "source": [
    "# import statements\n",
    "from __future__ import absolute_import\n",
    "\n",
    "import os\n",
    "from dcde.pre_annotation.contrast_adjustment import contrast"
   ]
  },
  {
   "cell_type": "code",
   "execution_count": 2,
   "metadata": {},
   "outputs": [
    {
     "name": "stdout",
     "output_type": "stream",
     "text": [
      "What channels are there? pos1\n",
      "Processed data will be located at test/pics/pics181220/processed\n",
      "Processing image 1 of 5\n",
      "Processing image 2 of 5\n",
      "Processing image 3 of 5\n",
      "Processing image 4 of 5\n",
      "Processing image 5 of 5\n"
     ]
    }
   ],
   "source": [
    "# pics181211\n",
    "# pics181220\n",
    "\n",
    "contrast('test/pics/pics181220')"
   ]
  },
  {
   "cell_type": "code",
   "execution_count": null,
   "metadata": {},
   "outputs": [],
   "source": []
  }
 ],
 "metadata": {
  "kernelspec": {
   "display_name": "Python 3",
   "language": "python",
   "name": "python3"
  },
  "language_info": {
   "codemirror_mode": {
    "name": "ipython",
    "version": 3
   },
   "file_extension": ".py",
   "mimetype": "text/x-python",
   "name": "python",
   "nbconvert_exporter": "python",
   "pygments_lexer": "ipython3",
   "version": "3.5.2"
  }
 },
 "nbformat": 4,
 "nbformat_minor": 2
}
