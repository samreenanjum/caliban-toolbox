{
 "cells": [
  {
   "cell_type": "markdown",
   "metadata": {},
   "source": [
    "# Tracking Pipeline\n",
    "\n",
    "1. Collect and zip raw data \n",
    "2. Upload to DeepCell.org & Download annotations\n",
    "3. Chop up images into manageable pieces\n",
    "4. Track each of these movies and prepare Caliban input file\n",
    "5. Load data into Caliban and correct tracks \n",
    "6. Retrain tracking model on Caliban output"
   ]
  },
  {
   "cell_type": "code",
   "execution_count": 1,
   "metadata": {},
   "outputs": [],
   "source": [
    "# Import statements\n",
    "import numpy as np\n",
    "import matplotlib\n",
    "import matplotlib.pyplot as plt\n",
    "import os, random\n",
    "import pathlib\n",
    "import skimage as sk\n",
    "import scipy as sp\n",
    "from skimage.io import imread, imshow\n",
    "from skimage.external.tifffile import TiffFile\n"
   ]
  },
  {
   "cell_type": "markdown",
   "metadata": {},
   "source": [
    "## 3. Chop up images into manageable pices\n",
    "\n",
    "Should take in directories of raw and annotated data  \n",
    "Chop up each into sequeces of registered frames (matching raw and annotated movies)  \n",
    "Store the output in an npz that the tracker can operate on (npz of 'X' and 'y')  "
   ]
  },
  {
   "cell_type": "code",
   "execution_count": 2,
   "metadata": {},
   "outputs": [],
   "source": [
    "# Define the directories of interest\n",
    "base_direc = '/data/data/cells/3T3/NIH/set0/deepcell_segmentations_v1/part_2'\n",
    "source_direcs = ['raw', 'annotated_ws']\n",
    "output_direc = '/data/data/cells/3T3/NIH/set0/deepcell_segmentations_v1/part_2/movies'\n",
    "\n",
    "# Create output ditrectory, if necessary\n",
    "#pathlib.Path(output_directory).mkdir(parents=True, exist_ok=True)\n",
    "\n",
    "# Training directories are organized according to location within an image\n",
    "# These can be tuned to limit the number of cells data curators see per frame\n",
    "num_x = 7 # Define num of horizontal samples\n",
    "num_y = 7 # Define num of vertical samples\n",
    "\n",
    "# Define the percentage each image should overlap (in case the result will eventually be stiched back together)\n",
    "overlap_perc = 0\n"
   ]
  },
  {
   "cell_type": "code",
   "execution_count": 3,
   "metadata": {},
   "outputs": [
    {
     "ename": "ImportError",
     "evalue": "cannot import name 'post_annotation'",
     "output_type": "error",
     "traceback": [
      "\u001b[0;31m---------------------------------------------------------------------------\u001b[0m",
      "\u001b[0;31mImportError\u001b[0m                               Traceback (most recent call last)",
      "\u001b[0;32m<ipython-input-3-9c155c8625dd>\u001b[0m in \u001b[0;36m<module>\u001b[0;34m()\u001b[0m\n\u001b[1;32m      1\u001b[0m \u001b[0;32mimport\u001b[0m \u001b[0mimportlib\u001b[0m\u001b[0;34m\u001b[0m\u001b[0m\n\u001b[1;32m      2\u001b[0m \u001b[0;34m\u001b[0m\u001b[0m\n\u001b[0;32m----> 3\u001b[0;31m \u001b[0;32mimport\u001b[0m \u001b[0mdcde\u001b[0m\u001b[0;34m\u001b[0m\u001b[0m\n\u001b[0m\u001b[1;32m      4\u001b[0m \u001b[0;34m\u001b[0m\u001b[0m\n\u001b[1;32m      5\u001b[0m \u001b[0;32mimport\u001b[0m \u001b[0mdcde\u001b[0m\u001b[0;34m.\u001b[0m\u001b[0mpre_annotation\u001b[0m\u001b[0;34m.\u001b[0m\u001b[0mchop_into_overlapping_images\u001b[0m\u001b[0;34m\u001b[0m\u001b[0m\n",
      "\u001b[0;32m/usr/local/lib/python3.5/dist-packages/dcde/__init__.py\u001b[0m in \u001b[0;36m<module>\u001b[0;34m()\u001b[0m\n\u001b[1;32m     31\u001b[0m \u001b[0;34m\u001b[0m\u001b[0m\n\u001b[1;32m     32\u001b[0m \u001b[0;32mfrom\u001b[0m \u001b[0mdcde\u001b[0m \u001b[0;32mimport\u001b[0m \u001b[0mannotation\u001b[0m\u001b[0;34m\u001b[0m\u001b[0m\n\u001b[0;32m---> 33\u001b[0;31m \u001b[0;32mfrom\u001b[0m \u001b[0mdcde\u001b[0m \u001b[0;32mimport\u001b[0m \u001b[0mpost_annotation\u001b[0m\u001b[0;34m\u001b[0m\u001b[0m\n\u001b[0m\u001b[1;32m     34\u001b[0m \u001b[0;32mfrom\u001b[0m \u001b[0mdcde\u001b[0m \u001b[0;32mimport\u001b[0m \u001b[0mpre_annotation\u001b[0m\u001b[0;34m\u001b[0m\u001b[0m\n\u001b[1;32m     35\u001b[0m \u001b[0;32mfrom\u001b[0m \u001b[0mdcde\u001b[0m \u001b[0;32mimport\u001b[0m \u001b[0mtracking\u001b[0m\u001b[0;34m\u001b[0m\u001b[0m\n",
      "\u001b[0;31mImportError\u001b[0m: cannot import name 'post_annotation'"
     ]
    }
   ],
   "source": [
    "import importlib\n",
    "\n",
    "import dcde\n",
    "\n",
    "import dcde.pre_annotation.chop_into_overlapping_images\n",
    "#importlib.reload(pre_annotation_scripts.chop_into_overlapping_images)\n",
    "\n",
    "trial = dcde.pre_annotation.chop_into_overlapping_images.chop_into_overlap_img(\n",
    "                     num_of_sets = 1,\n",
    "                     num_x = num_x, num_y=num_y,\n",
    "                     base_direc = base_direc,\n",
    "                     source_direcs = source_direcs,\n",
    "                     output_direc = output_direc,\n",
    "                     out_file_prefix = \"s0p2\",\n",
    "                     overlap_perc = overlap_perc)\n",
    "trial.crop_multiple_dir()\n"
   ]
  },
  {
   "cell_type": "code",
   "execution_count": 5,
   "metadata": {},
   "outputs": [
    {
     "name": "stdout",
     "output_type": "stream",
     "text": [
      "['', '/usr/lib/python35.zip', '/usr/lib/python3.5', '/usr/lib/python3.5/plat-x86_64-linux-gnu', '/usr/lib/python3.5/lib-dynload', '/usr/local/lib/python3.5/dist-packages', '/usr/lib/python3/dist-packages', '/usr/local/lib/python3.5/dist-packages/IPython/extensions', '/root/.ipython']\n"
     ]
    }
   ],
   "source": [
    "import sys\n",
    "print(sys.path)"
   ]
  },
  {
   "cell_type": "code",
   "execution_count": null,
   "metadata": {},
   "outputs": [],
   "source": []
  }
 ],
 "metadata": {
  "kernelspec": {
   "display_name": "Python 3",
   "language": "python",
   "name": "python3"
  }
 },
 "nbformat": 4,
 "nbformat_minor": 2
}
